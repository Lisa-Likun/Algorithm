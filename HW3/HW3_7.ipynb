{
  "nbformat": 4,
  "nbformat_minor": 0,
  "metadata": {
    "colab": {
      "name": "HW3-7.ipynb",
      "version": "0.3.2",
      "provenance": []
    },
    "kernelspec": {
      "name": "python2",
      "display_name": "Python 2"
    }
  },
  "cells": [
    {
      "metadata": {
        "id": "fIdyqIy1l6fG",
        "colab_type": "code",
        "colab": {
          "base_uri": "https://localhost:8080/",
          "height": 319
        },
        "outputId": "466746e2-17c6-4bd9-8d7b-77ee1190d3eb"
      },
      "cell_type": "code",
      "source": [
        "import numpy as np\n",
        "a='0'\n",
        "print(\"x=\")\n",
        "x=raw_input()\n",
        "x=x+a\n",
        "print(\"y=\")\n",
        "y=raw_input()\n",
        "y=y+a\n",
        "print(\"z=\")\n",
        "z=raw_input()\n",
        "z=a+z\n",
        "print(\"Text=\")\n",
        "T=raw_input()\n",
        "\n",
        "result=\"False\"\n",
        "lenth=max(len(x),len(y))\n",
        "lenth=max(lenth,len(y))\n",
        "lenth=lenth*lenth*lenth\n",
        " \n",
        "out = np.zeros((len(x),len(y),len(z)),dtype = np.int)\n",
        "\n",
        "for i in range(len(T)):\n",
        "  if(x[1]!=T[i])and(y[1]!=T[i])and(x[1]!=T[i]):\n",
        "    T=T[1:]\n",
        "  else:\n",
        "    break\n",
        "print(\"T=\",T)\n",
        "path=[[0,0,0]]\n",
        "path0=[[0,0,0]]\n",
        "\n",
        "i=0\n",
        "j=0\n",
        "k=0\n",
        "\n",
        "for l in range(len(T)):\n",
        "  c=len(path)\n",
        "  for m in range(len(path)):\n",
        "    if x[i+1]==T[l]:\n",
        "      out[i+1,j,k]=1\n",
        "      print([i+1,j,k])\n",
        "      path.append([i+1,j,k])\n",
        "      i+=1\n",
        "    if y[j+1]==T[l]:\n",
        "      out[i,j+1,k]=1\n",
        "      print([i,j+1,k])\n",
        "      path.append([i,j+1,k])\n",
        "      j +=1\n",
        "   \n",
        "    if  k<len(z)-1 and z[k+1]==T[l]:\n",
        "      out[i,j,k+1]=1\n",
        "      print([i,j,k+1])\n",
        "      path.append([i,j,k+1])\n",
        "      k+=1\n",
        "#   for h in range(c):\n",
        "#     del path[0]\n",
        "\n",
        "for r in range(len(path)):\n",
        "  if path[r]==[len(x)-2,len(y)-2,len(z)-2]:\n",
        "    result=\"True\"\n",
        "print(\"result\",result)"
      ],
      "execution_count": 24,
      "outputs": [
        {
          "output_type": "stream",
          "text": [
            "x=\n",
            "abac\n",
            "y=\n",
            "bbc\n",
            "z=\n",
            "abc\n",
            "Text=\n",
            "caabcbbabccdw\n",
            "('T=', 'bcbbabccdw')\n",
            "[1, 0, 0]\n",
            "[1, 1, 0]\n",
            "[1, 2, 0]\n",
            "[2, 2, 0]\n",
            "[2, 2, 1]\n",
            "[2, 2, 2]\n",
            "[3, 2, 2]\n",
            "[3, 2, 3]\n",
            "('result', 'True')\n"
          ],
          "name": "stdout"
        }
      ]
    }
  ]
}