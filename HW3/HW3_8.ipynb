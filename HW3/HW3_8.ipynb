{
  "nbformat": 4,
  "nbformat_minor": 0,
  "metadata": {
    "colab": {
      "name": "HW3-8.ipynb",
      "version": "0.3.2",
      "provenance": [],
      "collapsed_sections": []
    },
    "kernelspec": {
      "name": "python3",
      "display_name": "Python 3"
    }
  },
  "cells": [
    {
      "metadata": {
        "id": "NmJmUG2juBMn",
        "colab_type": "code",
        "outputId": "0a79e895-4c79-478d-e40d-12dc4b152c28",
        "colab": {
          "base_uri": "https://localhost:8080/",
          "height": 34
        }
      },
      "cell_type": "code",
      "source": [
        "input=[[2,5,1,6,1,4,1],\n",
        "       [6,1,1,2,2,9,3],\n",
        "       [7,2,3,2,1,3,1],\n",
        "       [1,1,3,1,7,1,2],\n",
        "       [4,1,2,3,4,1,2],\n",
        "       [3,3,1,2,3,4,1],\n",
        "       [1,5,2,9,4,7,3]]\n",
        "\n",
        "n=len(input[0])\n",
        "# print(\"n=\",n)\n",
        "G=\"F\"\n",
        "i=0\n",
        "j=0\n",
        "x=0\n",
        "y=0\n",
        "b0=[0,0]\n",
        "a=[b0]\n",
        "#############\n",
        "# value:input[x,y]\n",
        "# coordinate：x,y\n",
        "\n",
        "#############\n",
        "for step in range(len(input)):\n",
        "\n",
        "  for l in range(len(a)):\n",
        "#     print(\"a[l]=\",a[l])\n",
        "    b=a[l]\n",
        "    x=b[0]\n",
        "    y=b[1]\n",
        "#     print(\"x=\",x)\n",
        "#     print(\"y=\",y)\n",
        "#     print(\"input[x][y]=\",input[x][y])\n",
        "    if ((input[x][y]+x)<n):\n",
        "      c=[input[x][y]+x,y]\n",
        "      a=a+[c]\n",
        "  \n",
        "    if (input[x][y]+y<n):\n",
        "      c=[x,input[x][y]+y]\n",
        "      a=a+[c]\n",
        "#     print(\"a=\",a)\n",
        "\n",
        "\n",
        "      \n",
        "for i in range(len(a)):\n",
        "  if a[i]==[n-1,n-1]:\n",
        "    G=\"T\"\n",
        "print(\"G=\",G)"
      ],
      "execution_count": 0,
      "outputs": [
        {
          "output_type": "stream",
          "text": [
            "G= T\n"
          ],
          "name": "stdout"
        }
      ]
    }
  ]
}