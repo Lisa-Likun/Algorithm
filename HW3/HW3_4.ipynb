{
  "nbformat": 4,
  "nbformat_minor": 0,
  "metadata": {
    "colab": {
      "name": "HW3-4.ipynb",
      "version": "0.3.2",
      "provenance": [],
      "collapsed_sections": []
    },
    "kernelspec": {
      "name": "python3",
      "display_name": "Python 3"
    }
  },
  "cells": [
    {
      "metadata": {
        "id": "UJgvXDbTYbfC",
        "colab_type": "code",
        "outputId": "b471354e-1ddb-4e33-b182-fb93ab750b93",
        "colab": {
          "base_uri": "https://localhost:8080/",
          "height": 50
        }
      },
      "cell_type": "code",
      "source": [
        "import numpy as np\n",
        "\n",
        "n=input(\"n=\")\n",
        "n=int(n)-1\n",
        "matrix=([4,13],[1,4])\n",
        "initial=([4],[1])\n",
        "# print(matrix)\n",
        "# print(initial)\n",
        "# x=np.dot(m,initial)\n",
        "def myPow( matrix, n):\n",
        "  if n == 0:\n",
        "    return 1\n",
        "  if n == 2:\n",
        "    return np.dot(matrix,matrix) %100000\n",
        "  if not n%2:\n",
        "    \n",
        "    return myPow(myPow(matrix,n/2),2)\n",
        "  else:    \n",
        "    \n",
        "    return np.dot(matrix,(myPow(myPow(matrix,n//2),2)))\n",
        "result=myPow(matrix, n)\n",
        "result=np.dot(result,initial)\n",
        "integer=(2*(int(result[0]))-1)%100000\n",
        "\n",
        "# integer=（2*result[0]-1）%100000\n",
        "\n",
        "\n",
        "# print(result)\n",
        "print(integer)"
      ],
      "execution_count": 0,
      "outputs": [
        {
          "output_type": "stream",
          "text": [
            "n=100\n",
            "68625\n"
          ],
          "name": "stdout"
        }
      ]
    }
  ]
}