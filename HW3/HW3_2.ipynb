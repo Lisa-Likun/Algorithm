{
  "nbformat": 4,
  "nbformat_minor": 0,
  "metadata": {
    "colab": {
      "name": "HW3-2.ipynb",
      "version": "0.3.2",
      "provenance": [],
      "collapsed_sections": []
    },
    "kernelspec": {
      "name": "python3",
      "display_name": "Python 3"
    }
  },
  "cells": [
    {
      "metadata": {
        "id": "7ObyEwfsEFHY",
        "colab_type": "code",
        "outputId": "fd26e731-42c8-4bb7-fd6e-de2da6fb1ec3",
        "colab": {
          "base_uri": "https://localhost:8080/",
          "height": 102
        }
      },
      "cell_type": "code",
      "source": [
        "\n",
        "arr = input(\"a=\")\n",
        "a = [int(n) for n in arr.split()]\n",
        "size = len(a)\n",
        "print(a)\n",
        "\n",
        "def maxSubArraySum(a,size): \n",
        "  \n",
        "    max_so_far = 0\n",
        "    max_ending_here = 0\n",
        "    start = 0\n",
        "    end = 0\n",
        "    s = 0\n",
        "  \n",
        "    for i in range(0,size): \n",
        "  \n",
        "        max_ending_here += a[i] \n",
        "  \n",
        "        if max_so_far < max_ending_here: \n",
        "            max_so_far = max_ending_here \n",
        "            start = s \n",
        "            end = i \n",
        "  \n",
        "        if max_ending_here < 0: \n",
        "            max_ending_here = 0\n",
        "            s = i+1\n",
        "    start +=1\n",
        "    end +=1\n",
        "  \n",
        "    print (\"Maximum contiguous sum is %d\"%(max_so_far)) \n",
        "    print (\"Starting Index %d\"%(start)) \n",
        "    print (\"Ending Index %d\"%(end))\n",
        "maxSubArraySum(a,size)"
      ],
      "execution_count": 0,
      "outputs": [
        {
          "output_type": "stream",
          "text": [
            "a=33 36 -73 15 43 -17 36 -28 -1 21 33 36 -73 15 43 -17 36 -28 -1 21 33 36  -73 15 43 -17 36 -28 -1 21\n",
            "[33, 36, -73, 15, 43, -17, 36, -28, -1, 21, 33, 36, -73, 15, 43, -17, 36, -28, -1, 21, 33, 36, -73, 15, 43, -17, 36, -28, -1, 21]\n",
            "Maximum contiguous sum is 207\n",
            "Starting Index 4\n",
            "Ending Index 27\n"
          ],
          "name": "stdout"
        }
      ]
    }
  ]
}