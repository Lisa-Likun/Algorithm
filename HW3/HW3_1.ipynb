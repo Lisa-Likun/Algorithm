{
 "cells": [
  {
   "cell_type": "code",
   "execution_count": 1,
   "metadata": {
    "id": "VktYL5pyT9SQ",
    "colab_type": "code",
    "outputId": "d2774cf1-e34a-4c61-bc12-6033aec8ff5b",
    "colab": {
     "base_uri": "https://localhost:8080/",
     "height": 68.0
    },
    "collapsed": true
   },
   "outputs": [
    {
     "name": "stdout",
     "output_type": "stream",
     "text": [
      "marbles number N=10\n",
      "maximum M=2\n",
      "output= 89\n"
     ]
    }
   ],
   "source": [
    "N=int(input(\"marbles number N=\"))\n",
    "M=int(input(\"maximum M=\"))\n",
    "a=[[] for i in range(N+10)]\n",
    "for i in range(N+10):\n",
    "  for j in range(N+10):\n",
    "    a[i].append(0)\n",
    "\n",
    "ways=0\n",
    "if M==1:\n",
    "  ways=1\n",
    "elif M<=N:\n",
    "  if (N-M)<(M-1):\n",
    "    a[M][M]=2**(M-1)\n",
    "    for x in range(M+1,N+1):\n",
    "       a[x][M]=2*a[x-1][M]-1\n",
    "    ways=a[x][M]%65535\n",
    "  elif (N-M)>=(M-1):\n",
    "    a[M][M]=2**(M-1)\n",
    "#   print(M)\n",
    "#   print(a[M][M])\n",
    "    for x in range(1,M):\n",
    "#     print(x)\n",
    "      a[M+x][M]=2*a[M+x-1][M]-1\n",
    "#     print(M+x)\n",
    "#     print(a[M+x][M])\n",
    "#   print(a[6][3])\n",
    "    for i in range(M+M,N):\n",
    "      for k in range(1,M+1):\n",
    "        a[i][M] +=a[i-k][M]\n",
    "#         print(\"i=\",i)\n",
    "#         print(\"a[i][M]=\",a[i][M])\n",
    "    for j in range(1,M+1):\n",
    "#       print(\"N-i=\",(N-j))\n",
    "#       print(\"a[N-j][M]=\",a[N-j][M])\n",
    "      ways += a[N-j][M]\n",
    "      ways=ways%65535\n",
    "elif M>N:\n",
    "  print(\"Input is wrong\")\n",
    "print(\"output=\",ways)   \n",
    "# ways=ways%5\n",
    "# print(ways)\n",
    "  \n",
    "  \n",
    "    \n",
    "  \n",
    "  "
   ]
  }
 ],
 "metadata": {
  "colab": {
   "name": "HW3-1.ipynb",
   "version": "0.3.2",
   "provenance": [],
   "collapsed_sections": []
  },
  "kernelspec": {
   "name": "python3",
   "display_name": "Python 3"
  }
 },
 "nbformat": 4,
 "nbformat_minor": 0
}
