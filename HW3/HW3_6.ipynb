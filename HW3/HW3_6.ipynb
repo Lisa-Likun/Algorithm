{
  "nbformat": 4,
  "nbformat_minor": 0,
  "metadata": {
    "colab": {
      "name": "HW3-6.ipynb",
      "version": "0.3.2",
      "provenance": [],
      "collapsed_sections": []
    },
    "kernelspec": {
      "name": "python3",
      "display_name": "Python 3"
    }
  },
  "cells": [
    {
      "metadata": {
        "id": "_3u1QTrWueLq",
        "colab_type": "code",
        "outputId": "d5ebeb76-b597-47e5-a3c8-2ece9e51acf8",
        "colab": {
          "base_uri": "https://localhost:8080/",
          "height": 51
        }
      },
      "cell_type": "code",
      "source": [
        "def p(x,y):\n",
        "  out=3*y**2+2*x**2-10*y\n",
        "  return out\n",
        "n=input(\"n=\")\n",
        "n=int(n)\n",
        "path=[0]*1\n",
        "path[0]=(n,n)\n",
        "for i in range(1,n):\n",
        "  a=p(n-i,n-i)\n",
        "  up=p(n-i,n)\n",
        "  left=p(n,n-i)\n",
        "  out=max(a,up,left)\n",
        "  if out==a:\n",
        "    last_step=(n-i,n-i)\n",
        "  elif out==up:\n",
        "    last_step=(n-i,n)\n",
        "  else:\n",
        "    last_step=(n,n-i)\n",
        "  path.append(last_step)\n",
        "print(path)\n",
        "\n",
        "  "
      ],
      "execution_count": 0,
      "outputs": [
        {
          "output_type": "stream",
          "text": [
            "n=6\n",
            "[(6, 6), (5, 6), (4, 6), (6, 3), (6, 2), (6, 1)]\n"
          ],
          "name": "stdout"
        }
      ]
    }
  ]
}