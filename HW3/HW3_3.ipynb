{
  "nbformat": 4,
  "nbformat_minor": 0,
  "metadata": {
    "colab": {
      "name": "HW3-3.ipynb",
      "version": "0.3.2",
      "provenance": [],
      "collapsed_sections": []
    },
    "kernelspec": {
      "name": "python3",
      "display_name": "Python 3"
    }
  },
  "cells": [
    {
      "metadata": {
        "id": "zGuSiXGKNzRs",
        "colab_type": "code",
        "outputId": "0a63be54-7409-49cc-ebd9-b2d629c5419d",
        "colab": {
          "base_uri": "https://localhost:8080/",
          "height": 50
        }
      },
      "cell_type": "code",
      "source": [
        "result=0\n",
        "\n",
        "N=int(input(\"candies number N=\"))\n",
        "\n",
        "for i in range(0,(N+1)):\n",
        "#   print(\"i=\",i)\n",
        "  if (N-i)%2==0:\n",
        "    x=N-i\n",
        "    y=i\n",
        "    m=int(x/2)\n",
        "#     print(\"x=\",m)\n",
        "#     print(\"y=\",y)\n",
        "    for j in range(0,(m+1)):\n",
        "      a=2*j\n",
        "      b=2*(m-j)\n",
        "#       print(\"a=\",a)\n",
        "#       print(\"b=\",b)\n",
        "      for k in range(0,(y+1)):\n",
        "        re=1\n",
        "        c=k\n",
        "        d=y-k\n",
        "#         print(\"c=\",c)\n",
        "#         print(\"d=\",d)\n",
        "        ##################\n",
        "        if a!=0:\n",
        "          for r in range(0,a):\n",
        "            re*=(N-r)%65535\n",
        "            re=int(re/(r+1))\n",
        "        else:\n",
        "            re*=1\n",
        "        if b!=0:\n",
        "          for r in range(0,b):\n",
        "            re*=(N-a-r)%65535\n",
        "            re=int(re/(r+1))%65535\n",
        "        else:\n",
        "            re*=1 \n",
        "        if c!=0:\n",
        "          for r in range(0,c):\n",
        "            re*=(N-a-b-r)%65535\n",
        "            re=int(re/(r+1))\n",
        "        else:\n",
        "            re*=1\n",
        "        if d!=0:\n",
        "          for r in range(0,d):\n",
        "            re*=(N-a-b-c-r)%65535\n",
        "            re=int(re/(r+1))\n",
        "        else:\n",
        "            re*=1\n",
        "\n",
        "        ##################\n",
        "  ###########\n",
        "#         c1=[0 for q in range(a)]\n",
        "#         c2=[1 for q in range(b)]\n",
        "#         c3=[2 for q in range(c)]\n",
        "#         c4=[3 for q in range(d)]\n",
        "#         c=c1+c2+c3+c4\n",
        "#         print(\"c=\",c)\n",
        "#         list01=list(itertools.permutations(c,N))\n",
        "#         re=len(list01)\n",
        "        result+=re\n",
        "        result=result%65535\n",
        "        \n",
        "#         print(\"result=\",result)\n",
        "\n",
        "  ###########\n",
        "  else:\n",
        "    continue\n",
        "\n",
        "    \n",
        "    \n",
        "    \n",
        "#     re=re+(m+1)\n",
        "#     re=re*(y+1)\n",
        "#     if((m!=0)and(m%2==0))or((y!=0)and(y%2==0)):\n",
        "#       re+=1\n",
        "#     print(\"re=\",re)\n",
        "    \n",
        "print(\"reslut=\",result)\n",
        "  "
      ],
      "execution_count": 7,
      "outputs": [
        {
          "output_type": "stream",
          "text": [
            "candies number N=8\n",
            "reslut= 16512\n"
          ],
          "name": "stdout"
        }
      ]
    },
    {
      "metadata": {
        "id": "kKXKLLdO6Mc4",
        "colab_type": "code",
        "colab": {}
      },
      "cell_type": "code",
      "source": [
        ""
      ],
      "execution_count": 0,
      "outputs": []
    }
  ]
}