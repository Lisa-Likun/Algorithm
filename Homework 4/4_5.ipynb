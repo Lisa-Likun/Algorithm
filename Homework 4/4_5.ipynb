{
  "nbformat": 4,
  "nbformat_minor": 0,
  "metadata": {
    "colab": {
      "name": "4-5.ipynb",
      "version": "0.3.2",
      "provenance": []
    },
    "kernelspec": {
      "name": "python3",
      "display_name": "Python 3"
    }
  },
  "cells": [
    {
      "metadata": {
        "id": "LjhrDBCN7AkV",
        "colab_type": "code",
        "colab": {
          "base_uri": "https://localhost:8080/",
          "height": 50
        },
        "outputId": "7dd7c463-13c9-4ec7-9093-0e0c9dab9d58"
      },
      "cell_type": "code",
      "source": [
        "import numpy as np\n",
        "\n",
        "\n",
        "def myPow( matrix, n):\n",
        "  if n == 0:\n",
        "     return 1\n",
        "  if n == 2:\n",
        "    return np.dot(matrix,matrix)%65535\n",
        "  if not n%2:\n",
        "    return myPow(myPow(matrix,n/2),2)\n",
        "  else:    \n",
        "    \n",
        "    return np.dot(matrix,(myPow(myPow(matrix,n//2),2)))\n",
        "\n",
        "sum=0\n",
        "k=int(input(\"k=\"))\n",
        "x=[[0,1,1,0,0],\n",
        "   [0,0,1,0,0],\n",
        "   [0,0,0,1,0],\n",
        "   [1,0,0,0,1],\n",
        "   [1,1,0,0,0]]\n",
        "\n",
        "matrix_1=np.ones((len(x),1))\n",
        "matrix=np.transpose(x)\n",
        "matrix=myPow(matrix,k)\n",
        "# print(\"matrix_1=\",matrix_1)\n",
        "# print(\"matrix=\",matrix)\n",
        "x=mat(matrix)\n",
        "matrix_1=mat(matrix_1)\n",
        "\n",
        "G_matrix=matrix*matrix_1\n",
        "# print(\"G_matrix=\",G_matrix)\n",
        "for i in range(len(G_matrix)):\n",
        "  sum += G_matrix[i]\n",
        "sum=int(sum)\n",
        "print(\"sum=\",sum)\n",
        "\n",
        "\n"
      ],
      "execution_count": 55,
      "outputs": [
        {
          "output_type": "stream",
          "text": [
            "k=3\n",
            "sum= 17\n"
          ],
          "name": "stdout"
        }
      ]
    }
  ]
}