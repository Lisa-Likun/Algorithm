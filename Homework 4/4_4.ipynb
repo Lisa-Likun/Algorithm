{
  "nbformat": 4,
  "nbformat_minor": 0,
  "metadata": {
    "colab": {
      "name": "4-4.ipynb",
      "version": "0.3.2",
      "provenance": []
    },
    "kernelspec": {
      "name": "python3",
      "display_name": "Python 3"
    }
  },
  "cells": [
    {
      "metadata": {
        "id": "63v_yVEZUov0",
        "colab_type": "code",
        "colab": {
          "base_uri": "https://localhost:8080/",
          "height": 286
        },
        "outputId": "b9bae56d-e4cc-414b-fd24-3401481b6e8b"
      },
      "cell_type": "code",
      "source": [
        "import numpy as np\n",
        "import numpy.matlib \n",
        "  \n",
        "def myPow( matrix, n):\n",
        "  if n == 0:\n",
        "     return 1\n",
        "  if n == 2:\n",
        "    return np.dot(matrix,matrix)%65535\n",
        "  if not n%2:\n",
        "    return myPow(myPow(matrix,n/2),2)\n",
        "  else:    \n",
        "    \n",
        "    return np.dot(matrix,(myPow(myPow(matrix,n//2),2)))\n",
        "  \n",
        "k=int(input(\"k=\"))\n",
        "\n",
        "x=[[1,2,3],\n",
        "   [4,5,6],\n",
        "   [7,8,9]]\n",
        "\n",
        "row=len(x)\n",
        "col=len(x[0])\n",
        "matrix_1=numpy.matlib.eye(row, col,0, int)#对角线是1\n",
        "matrix_0=np.matlib.zeros((row,col))#全0方阵\n",
        "a=np.hstack((x,matrix_1))\n",
        "b=np.hstack((matrix_0,matrix_1))\n",
        "c=np.vstack((a,b))\n",
        "F1_F1=np.vstack((x,x))\n",
        "\n",
        "print(\"F1_F1=\",F1_F1)\n",
        "print(\"b=\",c)\n",
        "\n",
        "matrix=myPow(c,k-1)\n",
        "\n",
        "exFn=matrix*F1_F1\n",
        "\n",
        "Fn=exFn[0:len(x),0:len(x)]\n",
        "\n",
        "print(\"Fn=\",Fn)\n",
        "\n",
        "\n",
        "\n",
        "\n",
        "\n"
      ],
      "execution_count": 41,
      "outputs": [
        {
          "output_type": "stream",
          "text": [
            "k=1000000000\n",
            "F1_F1= [[1 2 3]\n",
            " [4 5 6]\n",
            " [7 8 9]\n",
            " [1 2 3]\n",
            " [4 5 6]\n",
            " [7 8 9]]\n",
            "b= [[1. 2. 3. 1. 0. 0.]\n",
            " [4. 5. 6. 0. 1. 0.]\n",
            " [7. 8. 9. 0. 0. 1.]\n",
            " [0. 0. 0. 1. 0. 0.]\n",
            " [0. 0. 0. 0. 1. 0.]\n",
            " [0. 0. 0. 0. 0. 1.]]\n",
            "Fn= [[ 5287255.  6583760.  7880265.]\n",
            " [12857950. 15995045. 19132140.]\n",
            " [20428645. 25406330. 30384015.]]\n"
          ],
          "name": "stdout"
        }
      ]
    }
  ]
}